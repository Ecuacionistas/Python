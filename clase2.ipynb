{
 "cells": [
  {
   "cell_type": "markdown",
   "id": "ea379a23-7ac9-44fa-ad4a-06c6846c258b",
   "metadata": {
    "jupyter": {
     "source_hidden": true
    }
   },
   "source": [
    "mi_lista= [1,2,3]"
   ]
  },
  {
   "cell_type": "code",
   "execution_count": 4,
   "id": "23e0601a-e519-479e-82ff-7ff6b2701680",
   "metadata": {
    "jupyter": {
     "source_hidden": true
    }
   },
   "outputs": [],
   "source": [
    "import numpy as np"
   ]
  },
  {
   "cell_type": "code",
   "execution_count": 5,
   "id": "9da06a72-08e9-479e-9853-802d54fd5f37",
   "metadata": {},
   "outputs": [],
   "source": [
    "mi_vector=np.array(mi_lista)"
   ]
  },
  {
   "cell_type": "code",
   "execution_count": 6,
   "id": "4355f3cc-563e-495e-966e-e0d4254bb652",
   "metadata": {},
   "outputs": [
    {
     "ename": "NameError",
     "evalue": "name 'numpy' is not defined",
     "output_type": "error",
     "traceback": [
      "\u001b[1;31m---------------------------------------------------------------------------\u001b[0m",
      "\u001b[1;31mNameError\u001b[0m                                 Traceback (most recent call last)",
      "Cell \u001b[1;32mIn[6], line 1\u001b[0m\n\u001b[1;32m----> 1\u001b[0m numpy\u001b[38;5;241m.\u001b[39mndarray\n",
      "\u001b[1;31mNameError\u001b[0m: name 'numpy' is not defined"
     ]
    }
   ],
   "source": [
    "numpy.ndarray"
   ]
  },
  {
   "cell_type": "code",
   "execution_count": 7,
   "id": "3f9d6f46-14a7-467a-a28c-e6a34e751239",
   "metadata": {},
   "outputs": [
    {
     "data": {
      "text/plain": [
       "array([3, 6, 9])"
      ]
     },
     "execution_count": 7,
     "metadata": {},
     "output_type": "execute_result"
    }
   ],
   "source": [
    "3*mi_vector"
   ]
  },
  {
   "cell_type": "code",
   "execution_count": 8,
   "id": "dc4d0e0d-bf05-4b86-8202-1af676ce249e",
   "metadata": {},
   "outputs": [
    {
     "data": {
      "text/plain": [
       "[1, 2, 3, 1, 2, 3, 1, 2, 3]"
      ]
     },
     "execution_count": 8,
     "metadata": {},
     "output_type": "execute_result"
    }
   ],
   "source": [
    "3*mi_lista"
   ]
  },
  {
   "cell_type": "code",
   "execution_count": 18,
   "id": "d9f663c4-569e-4c91-bf22-1b36e5771931",
   "metadata": {},
   "outputs": [
    {
     "data": {
      "text/plain": [
       "array([0., 0., 0., 0., 0., 0., 0., 0., 0., 0.])"
      ]
     },
     "execution_count": 18,
     "metadata": {},
     "output_type": "execute_result"
    }
   ],
   "source": [
    "ceros=np.zeros(10) #hace un array lleno de 0 y con longitud 10#\n",
    "ceros"
   ]
  },
  {
   "cell_type": "code",
   "execution_count": 11,
   "id": "5d135e80-3516-4299-8de7-3c7bf91e8400",
   "metadata": {},
   "outputs": [
    {
     "data": {
      "text/plain": [
       "10"
      ]
     },
     "execution_count": 11,
     "metadata": {},
     "output_type": "execute_result"
    }
   ],
   "source": [
    "len(ceros) #lenght--> longitud\n"
   ]
  },
  {
   "cell_type": "code",
   "execution_count": 15,
   "id": "35e3cc3d-9e74-4a3c-8b2f-32d7054fc5a2",
   "metadata": {},
   "outputs": [
    {
     "data": {
      "text/plain": [
       "array([1., 1., 1., 1., 1., 1., 1., 1., 1., 1.])"
      ]
     },
     "execution_count": 15,
     "metadata": {},
     "output_type": "execute_result"
    }
   ],
   "source": [
    "unos = np.ones(10)\n",
    "unos"
   ]
  },
  {
   "cell_type": "code",
   "execution_count": 19,
   "id": "0101b2a6-a4a2-4ce7-9e45-a34f4250d0f4",
   "metadata": {},
   "outputs": [
    {
     "data": {
      "text/plain": [
       "array([1., 1., 1., 1., 1., 1., 1., 1., 1., 1.])"
      ]
     },
     "execution_count": 19,
     "metadata": {},
     "output_type": "execute_result"
    }
   ],
   "source": [
    "unos + ceros"
   ]
  },
  {
   "cell_type": "code",
   "execution_count": 20,
   "id": "0627c41e-82d1-48f9-8bfe-4bd5ed2990f7",
   "metadata": {},
   "outputs": [
    {
     "data": {
      "text/plain": [
       "array([0., 0., 0., 0., 0., 0., 0., 4., 0., 0.])"
      ]
     },
     "execution_count": 20,
     "metadata": {},
     "output_type": "execute_result"
    }
   ],
   "source": [
    "ceros[7]= 4\n",
    "ceros"
   ]
  },
  {
   "cell_type": "code",
   "execution_count": 21,
   "id": "aa27afe2-16f1-4c5a-8bc7-fec7b0b9f226",
   "metadata": {},
   "outputs": [
    {
     "data": {
      "text/plain": [
       "array([1., 1., 1., 1., 1., 1., 1., 5., 1., 1.])"
      ]
     },
     "execution_count": 21,
     "metadata": {},
     "output_type": "execute_result"
    }
   ],
   "source": [
    "unos + ceros"
   ]
  },
  {
   "cell_type": "code",
   "execution_count": 23,
   "id": "61478dda-536b-4a44-8cc9-60277631d9d0",
   "metadata": {},
   "outputs": [
    {
     "data": {
      "text/plain": [
       "array([0, 1, 2, 3, 4, 5, 6, 7, 8, 9])"
      ]
     },
     "execution_count": 23,
     "metadata": {},
     "output_type": "execute_result"
    }
   ],
   "source": [
    "a = np.arange(0,10,1)\n",
    "a"
   ]
  },
  {
   "cell_type": "code",
   "execution_count": 25,
   "id": "fb54ca24-f67b-4678-a59c-d87d882ad886",
   "metadata": {},
   "outputs": [
    {
     "data": {
      "text/plain": [
       "array([ 1.,  2.,  3.,  4.,  5.,  6.,  7., 12.,  9., 10.])"
      ]
     },
     "execution_count": 25,
     "metadata": {},
     "output_type": "execute_result"
    }
   ],
   "source": [
    "suma = unos + ceros + a\n",
    "suma"
   ]
  },
  {
   "cell_type": "code",
   "execution_count": 26,
   "id": "e774c426-4186-4bc5-bb98-448efe7ef362",
   "metadata": {},
   "outputs": [
    {
     "data": {
      "text/plain": [
       "array([ 0,  2,  4,  6,  8, 10, 12, 14, 16, 18])"
      ]
     },
     "execution_count": 26,
     "metadata": {},
     "output_type": "execute_result"
    }
   ],
   "source": [
    "b= np.arange(0,20,2)\n",
    "b"
   ]
  },
  {
   "cell_type": "code",
   "execution_count": 34,
   "id": "5a595f2d-0f9b-434a-aad4-76cf6ec0496a",
   "metadata": {},
   "outputs": [
    {
     "data": {
      "text/plain": [
       "array([ 0.5,  1. ,  1.5,  2. ,  2.5,  3. ,  3.5,  4. ,  4.5,  5. ,  5.5,\n",
       "        6. ,  6.5,  7. ,  7.5,  8. ,  8.5,  9. ,  9.5, 10. ])"
      ]
     },
     "execution_count": 34,
     "metadata": {},
     "output_type": "execute_result"
    }
   ],
   "source": [
    "c = np.linspace(0.5,10,20)\n",
    "c"
   ]
  },
  {
   "cell_type": "code",
   "execution_count": 36,
   "id": "f549a0e1-b526-4c52-8a8f-e260e0390775",
   "metadata": {},
   "outputs": [
    {
     "data": {
      "text/plain": [
       "[[1, 2, 3], [4, 5, 6]]"
      ]
     },
     "execution_count": 36,
     "metadata": {},
     "output_type": "execute_result"
    }
   ],
   "source": [
    "mi_matriz2x3= [[1,2,3],[4,5,6]]\n",
    "mi_matriz2x3"
   ]
  },
  {
   "cell_type": "code",
   "execution_count": 37,
   "id": "ae26693e-7bf5-4466-a529-791536a17588",
   "metadata": {},
   "outputs": [
    {
     "data": {
      "text/plain": [
       "array([[1, 2, 3],\n",
       "       [4, 5, 6]])"
      ]
     },
     "execution_count": 37,
     "metadata": {},
     "output_type": "execute_result"
    }
   ],
   "source": [
    "mi_matriz_v = np.array(mi_matriz2x3)\n",
    "mi_matriz_v"
   ]
  },
  {
   "cell_type": "code",
   "execution_count": 38,
   "id": "c30bc70e-3bc3-45d9-b14f-141a05776ca6",
   "metadata": {},
   "outputs": [
    {
     "data": {
      "text/plain": [
       "array([[1., 0., 0.],\n",
       "       [0., 1., 0.],\n",
       "       [0., 0., 1.]])"
      ]
     },
     "execution_count": 38,
     "metadata": {},
     "output_type": "execute_result"
    }
   ],
   "source": [
    "identidad = np.eye((3))\n",
    "identidad"
   ]
  },
  {
   "cell_type": "code",
   "execution_count": 39,
   "id": "56cfb918-eb01-4d46-bc19-9e2258f6f0c9",
   "metadata": {},
   "outputs": [
    {
     "data": {
      "text/plain": [
       "array([[1, 2, 3],\n",
       "       [4, 5, 6],\n",
       "       [7, 8, 9]])"
      ]
     },
     "execution_count": 39,
     "metadata": {},
     "output_type": "execute_result"
    }
   ],
   "source": [
    "d = [[1, 2, 3], [4, 5, 6] , [7,8,9]]\n",
    "d = np.array (d)\n",
    "d"
   ]
  },
  {
   "cell_type": "code",
   "execution_count": 42,
   "id": "ada37f46-ecae-4fbe-8b8c-968395b26350",
   "metadata": {},
   "outputs": [
    {
     "data": {
      "text/plain": [
       "array([[ 2.,  2.,  3.],\n",
       "       [ 4.,  6.,  6.],\n",
       "       [ 7.,  8., 10.]])"
      ]
     },
     "execution_count": 42,
     "metadata": {},
     "output_type": "execute_result"
    }
   ],
   "source": [
    "e= identidad + d\n",
    "e"
   ]
  },
  {
   "cell_type": "code",
   "execution_count": 41,
   "id": "cf57f8dd-11b2-46cc-ac9f-d20d45685123",
   "metadata": {},
   "outputs": [
    {
     "data": {
      "text/plain": [
       "array([[1., 2., 3.],\n",
       "       [4., 5., 6.],\n",
       "       [7., 8., 9.]])"
      ]
     },
     "execution_count": 41,
     "metadata": {},
     "output_type": "execute_result"
    }
   ],
   "source": [
    "d@identidad"
   ]
  },
  {
   "cell_type": "code",
   "execution_count": 43,
   "id": "b9f62d4b-642d-417c-8eb0-002ccd9cc4eb",
   "metadata": {},
   "outputs": [
    {
     "data": {
      "text/plain": [
       "array([[ 31.,  38.,  45.],\n",
       "       [ 70.,  86., 102.],\n",
       "       [109., 134., 159.]])"
      ]
     },
     "execution_count": 43,
     "metadata": {},
     "output_type": "execute_result"
    }
   ],
   "source": [
    "e@d"
   ]
  },
  {
   "cell_type": "code",
   "execution_count": 44,
   "id": "69820712-1a91-440c-b9f5-6359cb1abbcf",
   "metadata": {},
   "outputs": [
    {
     "data": {
      "text/plain": [
       "array([[ 31.,  38.,  45.],\n",
       "       [ 70.,  86., 102.],\n",
       "       [109., 134., 159.]])"
      ]
     },
     "execution_count": 44,
     "metadata": {},
     "output_type": "execute_result"
    }
   ],
   "source": [
    "d@e"
   ]
  },
  {
   "cell_type": "code",
   "execution_count": 48,
   "id": "3c188b35-d495-4442-948e-0a7cd25355e4",
   "metadata": {},
   "outputs": [
    {
     "name": "stdout",
     "output_type": "stream",
     "text": [
      "[ 1.56007945e+00  7.23789605e-02  9.96265169e-01  2.65905885e+00\n",
      "  1.62253175e+00 -3.44559047e-01  6.37145914e-01 -5.66610545e-01\n",
      " -8.05544707e-01 -1.57286366e+00  5.69287540e-01 -5.06508374e-01\n",
      " -2.79303224e-02 -2.08226675e-03  1.12504654e+00  6.94980925e-02\n",
      " -1.45458491e+00 -5.26343424e-01  7.62777708e-01 -1.77169429e+00\n",
      " -1.10519557e-01  9.27477154e-01  1.66897578e-01  5.05178928e-01\n",
      "  9.45855462e-01  7.18475830e-01 -1.11802511e+00 -2.14765709e+00\n",
      " -1.23594343e+00 -1.29193368e-01 -1.80686751e+00  7.88510742e-01\n",
      "  1.79728011e-01  1.07188665e+00 -2.17794081e+00  3.84827469e-01\n",
      "  9.32177012e-01 -1.10920597e+00  7.62933795e-03  5.51980657e-01\n",
      "  5.90414601e-01 -5.62634850e-01 -1.93730536e+00  3.17097939e-01\n",
      " -3.69049303e-01  2.41352687e-01 -5.04859206e-01 -5.26659346e-01\n",
      "  1.92433476e-01 -8.58959794e-01  9.96944446e-01  7.85261984e-01\n",
      " -2.18297885e-01  6.19768474e-01 -6.90401238e-01 -6.50972768e-01\n",
      " -7.64431901e-01 -1.83097516e+00  1.46090456e+00  2.34094596e+00\n",
      " -1.33275120e+00  9.18983741e-01  7.61602000e-01 -6.00868839e-01\n",
      "  4.06428660e-01  4.89611865e-01 -4.06377227e-01 -1.10134151e+00\n",
      " -7.42618159e-01 -5.77999247e-01 -1.54743878e+00  4.22866219e-01\n",
      "  1.25620845e+00  2.82210590e-01 -3.82510860e-02  3.27613436e-01\n",
      " -1.48288606e-01 -2.57136503e-01 -1.66507802e+00 -6.67652013e-01\n",
      " -1.40261193e-01  1.10062497e+00  7.48873692e-02  1.92113933e+00\n",
      " -9.95897945e-01  9.43716663e-02 -6.78644581e-01 -1.74436035e+00\n",
      " -7.07806987e-02  1.00916973e+00 -2.50940133e-01  9.30359705e-01\n",
      " -8.19666862e-01 -2.08464490e+00 -1.19516767e-01 -1.00564040e-01\n",
      " -1.58057125e-01  3.42069860e-01 -1.58658559e+00  1.09038685e+00\n",
      "  4.55364512e-01 -5.20897738e-01  1.34509585e+00 -1.69766121e+00\n",
      "  4.04839658e-01  2.09514572e+00 -7.02027192e-01  1.25362183e+00\n",
      "  1.32791831e+00 -7.79951340e-01  1.01009922e+00  3.31489807e-01\n",
      "  7.54879656e-01  1.23570331e-01 -1.18372021e+00  9.63094206e-01\n",
      "  8.37551084e-01  1.20135296e+00 -1.19530420e+00  8.63670166e-01\n",
      " -4.25105239e-01 -3.29506230e-01 -1.50419574e-01  8.46733091e-01\n",
      " -3.89997140e-01  8.09292343e-01  7.57263411e-01  6.87127219e-01\n",
      " -1.19925878e+00  8.62391792e-01  1.01169130e+00 -3.94132143e-01\n",
      "  5.91267137e-01 -4.43876777e-01 -1.47943845e-01 -1.43016392e+00\n",
      "  2.19517338e+00  1.92285449e+00  1.05315792e+00  8.12145284e-02\n",
      "  4.53772176e-01  6.54161530e-01  4.06350813e-01 -1.77549313e-01\n",
      "  2.26376408e-01 -5.87821049e-01  3.27548857e-01  2.47733070e-01\n",
      "  4.40702362e-01 -7.44929482e-02 -6.28960949e-01 -6.35829328e-01\n",
      "  1.11695803e-01 -7.49460905e-01  7.52778450e-01 -3.23067604e-01\n",
      " -5.15901559e-01  3.33501532e-01 -5.88022884e-01 -4.17698889e-01\n",
      "  8.83898974e-01 -9.27769213e-01 -1.41377563e-01 -5.93914586e-01\n",
      " -2.24088052e+00  6.85535799e-01 -1.28754521e-01  1.70186153e+00\n",
      "  8.83907485e-02  3.11354951e-01 -7.59901222e-01  1.25370988e+00\n",
      " -1.92412161e+00 -4.98240147e-01 -1.13832390e+00  1.53842836e+00\n",
      "  2.12599143e-01 -8.14297842e-01 -1.47847943e+00 -3.99218891e-02\n",
      "  6.62948347e-01 -3.06732472e-01 -1.25098713e+00  2.92207119e-01\n",
      " -6.52675123e-01  7.23642793e-02 -2.26019450e-01  2.83815330e-01\n",
      " -1.23714705e+00  1.03082358e+00 -1.05206325e+00  9.22536315e-01\n",
      " -5.36332735e-02  2.75215902e-01  4.61689191e-03  6.45233140e-01\n",
      "  1.47486017e+00  1.46514144e+00  1.02515372e+00  5.45652043e-01\n",
      "  2.60409484e-01  6.76560460e-01  2.54051289e-01  1.58428412e+00\n",
      " -2.47992533e-01 -9.64976885e-01  7.87457988e-01 -1.02736671e+00\n",
      "  1.15715794e+00 -9.85559720e-01 -1.06981595e-01 -5.85240761e-01\n",
      "  1.08153225e+00 -3.04250964e-01 -3.03193864e-01  1.42106254e+00\n",
      " -5.81451378e-01  6.22325625e-01  7.90060086e-01  8.18894495e-01\n",
      " -2.10575291e+00 -1.39253728e-01 -2.39881476e+00 -8.11061307e-01\n",
      "  5.80153136e-01  1.67444894e+00 -1.26422277e-01  4.78902368e-01\n",
      "  1.48648445e+00 -6.58028568e-01 -2.30454961e+00 -6.45436943e-01\n",
      " -1.29762093e+00 -8.58452759e-01 -6.34908508e-01 -4.52879115e-01\n",
      "  1.81709336e-01 -8.11392666e-01  4.57502040e-01  2.04152421e-01\n",
      "  4.40629020e-02 -3.10645113e-01 -1.31321864e+00 -7.07560725e-01\n",
      " -7.70867040e-01 -6.21704738e-01 -1.40257491e+00 -7.06212090e-01\n",
      "  1.64030127e-01  5.93641698e-01  2.91737814e-01 -1.08925994e+00\n",
      "  7.90890337e-01  6.63789947e-01 -7.94825870e-01 -4.63480879e-01\n",
      " -2.09712114e-02  7.09105708e-02 -9.63778021e-01 -2.30377847e-01\n",
      "  7.71750244e-01  3.83391357e-01 -3.01856120e-01  7.04903355e-01\n",
      " -9.06202031e-02  3.76124673e-01 -4.27353927e-01 -4.67765915e-01\n",
      " -1.10844579e+00  1.17767627e-01  2.88810525e-01 -9.87964688e-01\n",
      "  1.99494112e-01  1.16076822e+00  1.54223556e-01 -6.39122507e-01\n",
      "  4.28413789e-01 -3.84864456e-01  4.66127736e-01 -2.51761306e-01\n",
      "  1.16072746e-01  1.08809000e-01  2.29779232e-01  1.76292372e-01\n",
      "  1.47017993e+00  1.67207693e-01  4.72311632e-01 -5.09632946e-01\n",
      " -8.31581260e-01  1.27001625e+00 -1.00422848e+00  1.18477137e+00\n",
      " -1.00420273e+00 -2.57527909e-01 -2.19731319e+00 -1.56221258e+00\n",
      "  4.30341186e-01 -1.63463873e-02 -1.35531082e+00  1.22565387e+00\n",
      " -1.46210719e-01  1.43516482e-01 -8.71606406e-01  1.16935526e+00\n",
      " -1.34345693e+00 -1.35810911e+00  1.96096360e+00 -6.84097189e-01\n",
      "  9.35619002e-02 -7.11743746e-01 -5.24436603e-01 -2.57821144e-01\n",
      " -3.32863970e-01 -9.79472350e-01 -3.81474455e-01 -3.39210862e-01\n",
      "  1.41015656e+00 -4.46972418e-01 -9.21472262e-01  3.35493425e-01\n",
      " -3.60992985e-02 -7.48494903e-01  4.45201980e-01  2.37934596e-01\n",
      " -1.00357673e+00 -6.62790202e-01 -9.21172760e-01  1.36455568e-01\n",
      "  1.61744698e+00  4.03294273e-01  5.12853016e-01 -4.75126438e-01\n",
      " -1.29693014e+00  5.18304833e-01  3.36113444e-01 -3.05643298e+00\n",
      "  1.92146926e+00 -5.69666077e-02  3.61313267e-01  1.10530399e+00\n",
      " -1.02299356e+00  1.79171666e+00  8.40827264e-01  4.97337621e-01\n",
      "  4.87515973e-01  1.05919633e+00 -3.90192361e-01 -1.92170338e-01\n",
      "  1.53056081e-01 -9.85510855e-01 -1.81011410e+00  1.29402650e+00\n",
      " -1.42127569e+00  3.39167559e-01 -1.14121109e+00  1.25640329e+00\n",
      "  1.83779017e-01 -1.07793724e+00 -1.63801900e+00 -1.76451159e-01\n",
      "  1.38934506e+00 -1.07807550e+00  1.46745826e+00  8.77499609e-01\n",
      " -3.88639399e-02 -6.77124842e-01  5.00938822e-01 -2.67058687e-01\n",
      " -4.12841378e-01 -7.94722087e-01 -2.29335672e+00 -5.28930293e-01\n",
      "  1.75537130e+00  6.76413735e-02  1.11244506e+00  9.46822322e-01\n",
      " -7.78105494e-01 -5.28771372e-01 -1.31600679e-01  3.25293063e-01\n",
      "  1.33028308e+00 -1.90747126e-01 -1.97109717e+00 -7.60972846e-01\n",
      " -3.72641581e-01 -1.40651503e+00  6.93569671e-01  7.46202489e-01\n",
      "  9.68434117e-01  2.41833961e-01  5.16200682e-01 -2.15620308e+00\n",
      " -1.70109166e+00 -7.32094090e-01  1.10311360e+00  2.39212695e+00\n",
      "  1.10278186e+00 -4.42943853e-01  6.93867979e-01 -1.89046394e+00\n",
      "  8.44199573e-01  3.97465784e-01  4.73575234e-01 -1.91969469e+00\n",
      " -6.67331536e-01  5.85936990e-01  1.82603640e-01 -3.96606046e-01\n",
      " -9.00587452e-01 -9.70197247e-02  1.68898793e+00  8.56162146e-01\n",
      " -9.30762075e-01  5.94831761e-01  1.51144266e+00 -1.00094859e+00\n",
      " -6.20657764e-01 -1.77939287e+00  4.04992644e-01 -2.92922159e-01\n",
      " -2.36867825e-01 -1.56266248e+00 -1.04237708e+00  6.70046128e-01\n",
      "  2.15040544e-01 -6.54250711e-02  7.63100897e-01  1.80075072e-01\n",
      "  6.71552988e-01  2.33733270e-01  7.82441731e-01 -1.54954095e-01\n",
      "  5.83711207e-01 -2.13591082e+00  1.70914513e+00 -1.58157123e+00\n",
      " -1.12061814e+00  7.57077153e-01  1.67925938e-01  8.68510978e-01\n",
      "  1.35073993e+00  8.09655694e-01 -1.19527221e-01  6.90950942e-01\n",
      "  7.90211962e-01  6.06464246e-02  7.89197835e-01 -1.08717472e+00\n",
      "  8.39756729e-02 -1.03751878e+00  1.27569711e+00 -4.83872992e-01\n",
      " -1.06696124e+00 -2.82328846e+00  6.09538131e-01  9.51917422e-01\n",
      "  7.61777130e-01 -1.54556560e-01  6.19807394e-01 -8.05771756e-01\n",
      " -7.74581849e-01  1.66382730e+00  5.18384273e-01  4.88219014e-01\n",
      "  6.78803784e-01  6.32148597e-01 -2.52852650e+00  4.31579260e-01\n",
      "  3.33778949e-01  1.92698693e+00  2.17368284e+00  8.52298807e-01\n",
      " -3.64630893e-01  1.02761760e+00  4.84485424e-02 -1.26858688e+00\n",
      " -1.28830309e+00 -9.08746213e-01  8.48351062e-01 -1.59690820e+00\n",
      " -1.81029366e+00 -1.46549204e+00  1.06515064e+00 -4.60924012e-01\n",
      " -7.81484990e-01  2.33214924e-01 -8.07104642e-01  6.40108555e-01\n",
      "  6.59060868e-01  1.23785458e+00  1.95474134e+00 -4.47480973e-01\n",
      "  1.89351693e+00  1.20164752e-01  9.01066235e-01 -2.38036605e-01\n",
      "  8.75478448e-02  7.29194363e-02 -1.91885108e-01 -3.71079785e-01\n",
      " -7.54355291e-01 -8.37331197e-01 -7.78350042e-01  8.95747995e-01\n",
      " -2.91492622e-01  8.13704648e-01 -3.30113586e-01 -6.32829459e-01\n",
      " -9.75592646e-01 -1.32516285e+00 -1.27326345e+00  1.45940490e-01\n",
      "  5.44439126e-01 -4.79930762e-01  1.34430666e+00  9.75052372e-01\n",
      "  1.10856337e-02  7.18872039e-01  5.91551912e-01  9.41249597e-02\n",
      "  1.90614334e+00 -1.43879574e+00  1.09948332e+00 -1.12997818e-01\n",
      " -2.84006800e-02 -6.39839672e-01  2.01130321e-01 -2.02919574e+00\n",
      " -1.25849797e+00 -2.90047558e-01 -1.74497421e+00  8.48621396e-01\n",
      " -4.26476772e-01 -7.28115127e-01 -1.07900242e+00 -1.73422328e-02\n",
      " -6.84085090e-01  1.67802589e-01  1.14893905e+00  4.08999495e-01\n",
      " -5.71009976e-01  1.20014821e+00  9.37438345e-01  1.90643931e+00\n",
      "  2.49596795e-01 -9.80127109e-01  7.85417405e-01  4.27765521e-01\n",
      " -1.81179771e+00 -1.21513451e-01 -1.77712122e+00 -8.36088039e-01\n",
      "  6.30738061e-01 -2.19735749e+00  3.17404248e-01 -5.30896889e-01\n",
      " -1.21348960e+00 -4.86837156e-01 -2.43368099e-01  7.20439526e-01\n",
      " -1.68982009e-01  3.14852295e-01 -3.44705634e-01  1.25567474e+00\n",
      "  8.52039252e-01  1.87797586e-02  1.09916470e+00 -7.84632034e-01\n",
      " -9.09043381e-02 -1.13923709e-01 -1.30686636e-01  6.24144180e-01\n",
      "  1.07139997e+00 -1.81715046e+00  1.64704572e+00  8.04013539e-02\n",
      " -8.98330324e-01  1.16741429e+00  2.20828732e+00 -1.94459110e-01\n",
      " -8.39666981e-01 -4.22902634e-01 -1.26855706e+00 -7.00856766e-02\n",
      "  8.25181289e-01  1.19137610e+00  3.14049693e-01 -1.14563673e+00\n",
      " -6.43691752e-02 -1.08125297e+00 -1.83684277e+00  1.79065205e-01\n",
      " -3.84925418e-01  1.61300296e+00 -4.72847186e-01 -1.19271399e+00\n",
      "  6.05143335e-02  5.56092438e-01 -1.30115762e+00 -6.38932339e-01\n",
      "  1.57682452e+00 -1.25528012e-01 -1.75291918e+00  1.26959377e+00\n",
      " -8.60315480e-01 -3.16301229e-01  6.12245958e-01  2.34921035e+00\n",
      "  6.92061153e-01  2.29666106e-01  1.19259388e+00  1.70009222e+00\n",
      " -5.49046496e-01 -2.52643422e-01  5.32086384e-01 -1.41389220e-01\n",
      "  6.29571301e-01  1.08092172e+00  1.31755484e-01 -5.45273984e-01\n",
      " -1.03396696e+00  3.23210862e-01  1.76892059e+00  3.34477289e-01\n",
      " -6.50773742e-01 -1.80773391e+00  1.27695466e+00 -6.43142725e-01\n",
      "  1.18529581e+00  9.34787254e-01  9.19949687e-01  4.48976040e-01\n",
      "  1.34774319e+00 -1.36648785e+00 -7.85623306e-01  2.90873055e-01\n",
      "  3.57888388e-01  2.55015937e-01  1.25506570e-01  1.61881330e+00\n",
      "  1.83066759e+00 -1.00554603e+00  3.52413194e-01  1.06795745e+00\n",
      " -4.96926662e-01  9.78711127e-01 -6.61935692e-01 -1.48214453e-01\n",
      "  7.86854195e-01  9.39927265e-01  1.35760950e+00  7.28562666e-01\n",
      " -2.76107111e+00 -1.19570709e+00  7.36623743e-01  4.69875779e-01\n",
      "  1.50202793e+00  9.72707873e-01 -8.52665117e-01  6.63236231e-01\n",
      " -1.00850426e+00  3.46495044e-01 -5.75155577e-01  6.10545234e-01\n",
      " -1.32641410e-01  2.46168432e+00 -2.21488887e+00 -9.58441803e-01\n",
      "  5.22791763e-01  3.96426889e-01  2.26579675e+00 -5.32071525e-01\n",
      " -1.03588636e+00 -6.28875831e-02  9.38616297e-01 -1.27361016e+00\n",
      "  8.16338735e-01  8.22573229e-01  1.02288813e+00 -1.36140369e-01\n",
      " -5.21030525e-01  1.80959046e+00  1.06632669e+00  1.90073860e-01\n",
      "  2.81793129e-01 -8.61134784e-02 -6.80794797e-01  7.54970925e-02\n",
      " -4.99809355e-01 -2.14507731e-01  5.43901906e-02  4.98702795e-02\n",
      " -5.68964952e-01 -7.53774570e-01 -3.00638729e-01  7.18932599e-01\n",
      " -8.96692889e-01 -1.74267608e+00  5.65603920e-01  1.56761681e+00\n",
      " -3.22224483e-01 -8.33578943e-02 -8.72258497e-01  8.61743779e-01\n",
      " -2.67761657e+00 -3.72916045e-01  2.01475007e+00 -2.37578756e-02\n",
      "  8.38784605e-02  1.12863698e+00  1.45301673e+00 -1.55368008e+00\n",
      "  2.77692224e-01 -1.34273441e+00 -3.46428996e-01 -5.18026745e-01\n",
      " -9.48860055e-01 -2.19960537e-01  6.03366536e-01  9.68931156e-02\n",
      "  4.14171535e-01  1.50499650e+00 -2.04164375e-01 -5.87882279e-01\n",
      "  2.47927133e+00  8.26010459e-01  2.37925644e-01  8.10948713e-01\n",
      "  7.08692893e-01  5.66207198e-02  3.23085997e-01 -2.27753696e+00\n",
      "  1.19682994e+00 -9.33777212e-01 -4.85629416e-01 -2.74229635e-01\n",
      "  7.00770040e-01  1.55480263e+00 -5.83051633e-01  8.24884475e-01\n",
      "  2.51367689e-01  6.65022345e-01 -4.02127899e-01  4.39595984e-01\n",
      "  1.22933713e+00 -5.57886052e-01 -1.37186818e-01  1.98403339e+00\n",
      " -4.08816508e-01 -1.34969043e-01  8.49740131e-01  2.14312252e-01\n",
      " -1.37763194e+00  1.76052711e+00  3.53384767e-01 -4.60704326e-01\n",
      "  5.55528877e-01  2.70871206e-01  4.93624098e-01  9.80733602e-01\n",
      "  4.89015010e-01  7.02399310e-01  1.20553515e-01  7.10928298e-01\n",
      "  1.99833077e-02 -3.24650283e-01 -4.71515750e-01  6.78231306e-01\n",
      "  3.59488965e-01  1.77117428e+00  4.94572220e-01 -4.40323908e-01\n",
      " -9.43768822e-02 -7.56768569e-01 -1.03284631e-01  9.78944189e-01\n",
      "  2.66663427e-02  7.02783041e-02 -3.26625903e-01 -5.70794180e-01\n",
      " -9.42445366e-01 -1.84048254e+00  9.78161637e-01  4.53521939e-01\n",
      " -2.08290667e-01  9.17738482e-01  1.37641955e+00  1.14176223e+00\n",
      " -1.98901006e+00 -1.25746924e+00 -5.29041504e-01 -7.61902414e-01\n",
      " -1.76034200e+00  6.78433838e-02  2.63019309e-01  1.14796617e+00\n",
      " -1.65846992e-02 -6.59663194e-01 -6.01355944e-02 -2.15000388e+00\n",
      " -5.38433838e-01 -1.24809182e+00  6.55812654e-02  5.54669732e-01\n",
      "  9.32104889e-01  1.03494384e+00 -5.32428260e-01  4.24882178e-01\n",
      " -9.17547193e-01 -1.25082507e-01  4.12129817e-01 -1.43592593e+00\n",
      "  6.80595131e-01 -7.26832728e-01 -9.43344545e-02 -1.69931675e+00\n",
      " -1.11554316e+00  9.90002587e-01 -2.53013417e-01 -1.23651137e-01\n",
      "  5.74778898e-01 -1.62396910e+00  9.34148792e-01  4.24247321e-03\n",
      "  7.34691324e-01  2.31131617e+00  2.03245236e-01 -8.60206952e-01\n",
      " -3.77549407e-01  5.99848998e-01 -2.26738900e+00 -7.95937081e-01\n",
      " -1.04354130e+00 -1.08907393e+00  3.02894645e-01 -1.69836120e-01\n",
      "  1.53417891e-01  6.70954378e-01  1.19265664e+00 -1.12220501e+00\n",
      "  6.07269944e-01  2.46433688e-01  3.53072030e-01 -2.51775271e+00\n",
      "  1.11323791e+00 -2.16952992e-01 -1.73647394e-01  1.30367881e+00\n",
      " -3.11715292e+00 -5.38581338e-01  4.44068978e-01  9.38673192e-02\n",
      "  9.74134609e-01 -1.53363019e+00 -8.68099834e-01 -3.47019980e-01\n",
      " -3.85842324e-01 -9.65201954e-01 -6.00161481e-01  2.76345082e-01\n",
      " -1.28798526e-01  1.28106054e+00 -5.72734458e-01 -3.47290471e-01\n",
      " -9.03473797e-01  5.13708802e-01  1.05877328e+00 -6.09509531e-01\n",
      " -3.00553811e-01 -2.83666448e-01 -1.46222260e+00 -1.34057942e+00\n",
      "  1.16890679e-01 -7.99584347e-01  5.26837477e-02  7.02976269e-01\n",
      "  1.46868844e-02 -9.83672750e-02  8.22675063e-01 -7.90018289e-01\n",
      "  5.97309545e-01 -3.53811838e-01 -2.02827987e-01  2.81560107e-01\n",
      "  1.09177484e+00 -1.88544959e-01  3.77220127e-01  1.04176483e-01\n",
      " -3.72443473e-01 -1.48659935e+00  2.48885462e-01 -7.70868959e-02\n",
      " -8.82216065e-02 -1.87499051e-01 -1.91188268e+00 -1.85822505e+00\n",
      "  7.21602717e-03 -5.63137440e-01 -6.87382198e-01 -3.40195017e-01\n",
      " -1.32893915e-01 -8.42693666e-02 -2.63917689e-01  1.81144845e+00\n",
      " -4.29893920e-01 -1.94920283e-01 -2.32275108e+00 -4.76447035e-01\n",
      "  4.90928478e-01 -1.79491708e+00  8.53043346e-01  1.08305790e-02\n",
      "  1.05524201e+00  9.59679692e-01  1.02790136e+00  4.49320209e-01\n",
      "  2.05848848e-01  1.61480808e+00 -5.34729845e-01 -1.60103108e-02\n",
      " -1.48477802e+00  9.16941610e-01 -1.25857929e+00 -1.70999830e+00\n",
      "  4.55255817e-01  7.42709857e-01 -1.23120272e+00 -5.26498266e-01\n",
      "  2.53042143e+00  6.73316599e-02  1.37141323e+00  8.12279174e-01\n",
      " -3.05547698e-01 -3.85540066e-01  2.91057402e-01 -1.43064361e+00\n",
      "  4.07605441e-01  2.59560380e-01 -6.70103421e-01 -4.32051778e-01\n",
      " -1.12300871e+00  7.01355863e-01 -1.03597530e+00 -2.16052551e+00\n",
      " -1.08831836e-01 -1.61361240e+00  3.69951198e-01  5.15732534e-01\n",
      "  1.88802245e-01  1.27141341e+00  3.66842977e-01  1.62235453e-01\n",
      " -3.56803945e-02 -3.48388177e-01  9.06686348e-01 -6.96965093e-01\n",
      "  8.05785344e-01  9.08903691e-02  5.83316133e-01 -4.14114349e-01\n",
      "  6.88170657e-01 -4.99915223e-01 -2.54846273e-01 -4.27747059e-01\n",
      "  9.59590003e-01 -3.37189423e-01 -4.36654506e-01 -1.06248251e+00\n",
      " -1.65911269e+00  3.17336747e-02  8.39321775e-01  5.36662384e-01\n",
      "  9.06443189e-01  1.26667823e+00  1.21785642e+00  4.27909644e-01\n",
      "  1.86680569e+00 -1.24122193e+00  7.36733225e-01 -2.19755490e+00\n",
      "  7.86740447e-01  2.26748598e-01  1.56547915e+00  9.75749698e-01\n",
      " -4.36088125e-01  1.07789416e+00 -2.20949167e+00 -4.13478155e-01\n",
      "  2.46620921e-01 -7.09610409e-01  1.32657625e+00  8.82155531e-02\n",
      "  1.71275132e+00  8.70835011e-01  6.32155312e-01  2.73147986e-01\n",
      " -1.66058478e+00 -1.17816830e+00  4.12074040e-01 -6.40107560e-01]\n"
     ]
    }
   ],
   "source": [
    "n= 1000\n",
    "aleatorios = np.random.randn(n)\n",
    "print(aleatorios)"
   ]
  },
  {
   "cell_type": "code",
   "execution_count": 46,
   "id": "2db512ed-16d8-4985-bcf9-0a34423d9b2e",
   "metadata": {},
   "outputs": [
    {
     "name": "stderr",
     "output_type": "stream",
     "text": [
      "Matplotlib is building the font cache; this may take a moment.\n"
     ]
    }
   ],
   "source": [
    "import matplotlib.pyplot as plt"
   ]
  },
  {
   "cell_type": "code",
   "execution_count": 47,
   "id": "bd3ba964-d03e-49a9-b464-f7b8cd20c9e6",
   "metadata": {},
   "outputs": [
    {
     "data": {
      "text/plain": [
       "[<matplotlib.lines.Line2D at 0x1dfcd618690>]"
      ]
     },
     "execution_count": 47,
     "metadata": {},
     "output_type": "execute_result"
    },
    {
     "data": {
      "image/png": "[encoded data removed]",
      "text/plain": [
       "<Figure size 640x480 with 1 Axes>"
      ]
     },
     "metadata": {},
     "output_type": "display_data"
    }
   ],
   "source": [
    "plt.plot(aleatorios)"
   ]
  },
  {
   "cell_type": "code",
   "execution_count": 49,
   "id": "7245e85e-4d30-4264-9a33-ee8ece176cdd",
   "metadata": {},
   "outputs": [
    {
     "data": {
      "text/plain": [
       "[<matplotlib.lines.Line2D at 0x1dfcdae7450>]"
      ]
     },
     "execution_count": 49,
     "metadata": {},
     "output_type": "execute_result"
    },
    {
     "data": {
      "image/png": "[encoded data removed]",
      "text/plain": [
       "<Figure size 640x480 with 1 Axes>"
      ]
     },
     "metadata": {},
     "output_type": "display_data"
    }
   ],
   "source": [
    "plt.plot(aleatorios)"
   ]
  },
  {
   "cell_type": "code",
   "execution_count": 51,
   "id": "3c6786f0-7cbe-4b42-b35c-b589debc6032",
   "metadata": {},
   "outputs": [
    {
     "data": {
      "text/plain": [
       "array([0.91738548, 0.5223949 , 0.04303308, 0.42138619, 0.71420722,\n",
       "       0.15443589, 0.05041408, 0.69624665, 0.8766614 , 0.17261697])"
      ]
     },
     "execution_count": 51,
     "metadata": {},
     "output_type": "execute_result"
    }
   ],
   "source": [
    "np.random.seed(141)\n",
    "np.random.rand(n)[0:10]"
   ]
  },
  {
   "cell_type": "code",
   "execution_count": 56,
   "id": "872ad3a1-a731-4a6c-8113-3c86d1a19ec0",
   "metadata": {},
   "outputs": [
    {
     "data": {
      "text/plain": [
       "array([ 2,  1,  0,  2,  1, -3,  2, -1,  0,  0])"
      ]
     },
     "execution_count": 56,
     "metadata": {},
     "output_type": "execute_result"
    }
   ],
   "source": [
    "np.random.seed(52)\n",
    "np.random.randint(-3,3,1000)[0:10]"
   ]
  },
  {
   "cell_type": "code",
   "execution_count": 57,
   "id": "5a10cb91-e2c5-43d2-a735-8fcb4265a2a4",
   "metadata": {},
   "outputs": [
    {
     "data": {
      "text/plain": [
       "(3, 3)"
      ]
     },
     "execution_count": 57,
     "metadata": {},
     "output_type": "execute_result"
    }
   ],
   "source": [
    "d.shape #tupla similar a lista pero una vez establecida no la puedo modificar, a diferencia de las listas o arrays#"
   ]
  },
  {
   "cell_type": "code",
   "execution_count": 58,
   "id": "c0e8a5ba-192c-4223-a012-cb10e7e7b9cc",
   "metadata": {},
   "outputs": [
    {
     "data": {
      "text/plain": [
       "(2, 3)"
      ]
     },
     "execution_count": 58,
     "metadata": {},
     "output_type": "execute_result"
    }
   ],
   "source": [
    "mi_matriz_v.shape"
   ]
  },
  {
   "cell_type": "code",
   "execution_count": 60,
   "id": "744508ed-b715-4dcb-877f-757094fb13ba",
   "metadata": {},
   "outputs": [
    {
     "data": {
      "text/plain": [
       "array([[1],\n",
       "       [2],\n",
       "       [3],\n",
       "       [4],\n",
       "       [5],\n",
       "       [6]])"
      ]
     },
     "execution_count": 60,
     "metadata": {},
     "output_type": "execute_result"
    }
   ],
   "source": [
    "mi_matriz_v.reshape(6,1) #reconfigurar la forma de la matriz\n",
    "#un metodo es una funcion  que es hacerle algo a la matriz(reshape) un atributo me entrega algo propio de la matriz(shape)"
   ]
  },
  {
   "cell_type": "code",
   "execution_count": 62,
   "id": "c66fbdfe-ad60-4d79-8619-cbde21b05165",
   "metadata": {},
   "outputs": [
    {
     "data": {
      "text/plain": [
       "(3,)"
      ]
     },
     "execution_count": 62,
     "metadata": {},
     "output_type": "execute_result"
    }
   ],
   "source": [
    "mi_vector.shape"
   ]
  },
  {
   "cell_type": "code",
   "execution_count": 65,
   "id": "4aad5129-6839-4ce1-89b6-b88284c92b9f",
   "metadata": {},
   "outputs": [
    {
     "data": {
      "text/plain": [
       "array([  0,  50, 100, 150, 200, 250, 300, 350, 400, 450, 500, 550, 600,\n",
       "       650, 700, 750, 800, 850, 900, 950])"
      ]
     },
     "execution_count": 65,
     "metadata": {},
     "output_type": "execute_result"
    }
   ],
   "source": [
    "nuevo_vector = np.arange (0,1000,50)\n",
    "nuevo_vector"
   ]
  },
  {
   "cell_type": "code",
   "execution_count": 67,
   "id": "517984b5-be7c-4ecc-b52f-9567744b53d9",
   "metadata": {},
   "outputs": [
    {
     "data": {
      "text/plain": [
       "array([550, 600, 650, 700, 750, 800, 850, 900, 950])"
      ]
     },
     "execution_count": 67,
     "metadata": {},
     "output_type": "execute_result"
    }
   ],
   "source": [
    "nuevo_vector [nuevo_vector>500]\n"
   ]
  },
  {
   "cell_type": "code",
   "execution_count": 68,
   "id": "937309db-d3c9-4776-bcc1-250be16550a1",
   "metadata": {},
   "outputs": [
    {
     "data": {
      "text/plain": [
       "array([False, False, False, False, False, False, False, False, False,\n",
       "       False, False,  True,  True,  True,  True,  True,  True,  True,\n",
       "        True,  True])"
      ]
     },
     "execution_count": 68,
     "metadata": {},
     "output_type": "execute_result"
    }
   ],
   "source": [
    "nuevo_vector>500"
   ]
  },
  {
   "cell_type": "code",
   "execution_count": 69,
   "id": "28c638bb-d3a5-4530-8532-03bd4209d80b",
   "metadata": {},
   "outputs": [
    {
     "data": {
      "text/plain": [
       "array([[1, 2, 3],\n",
       "       [4, 5, 6]])"
      ]
     },
     "execution_count": 69,
     "metadata": {},
     "output_type": "execute_result"
    }
   ],
   "source": [
    "mi_matriz_v"
   ]
  },
  {
   "cell_type": "code",
   "execution_count": 70,
   "id": "8ad711cb-1cfc-4e74-807c-ba6875032d26",
   "metadata": {},
   "outputs": [
    {
     "data": {
      "text/plain": [
       "1"
      ]
     },
     "execution_count": 70,
     "metadata": {},
     "output_type": "execute_result"
    }
   ],
   "source": [
    "mi_matriz_v[0][0]"
   ]
  },
  {
   "cell_type": "code",
   "execution_count": 71,
   "id": "e1fead18-069a-4cbd-b8ed-3c5f608c5f46",
   "metadata": {},
   "outputs": [
    {
     "data": {
      "text/plain": [
       "1"
      ]
     },
     "execution_count": 71,
     "metadata": {},
     "output_type": "execute_result"
    }
   ],
   "source": [
    "mi_matriz_v[0,0]"
   ]
  },
  {
   "cell_type": "code",
   "execution_count": 72,
   "id": "aab9222f-00a4-43ef-b4be-761fd23a442c",
   "metadata": {},
   "outputs": [
    {
     "data": {
      "text/plain": [
       "array([[1, 2],\n",
       "       [4, 5]])"
      ]
     },
     "execution_count": 72,
     "metadata": {},
     "output_type": "execute_result"
    }
   ],
   "source": [
    "mi_matriz_v[0:2,0:2]"
   ]
  },
  {
   "cell_type": "code",
   "execution_count": 73,
   "id": "a7b6905e-84db-470b-95a3-52bbf2767eb5",
   "metadata": {},
   "outputs": [
    {
     "data": {
      "text/plain": [
       "array([[1.        , 1.41421356, 1.73205081],\n",
       "       [2.        , 2.23606798, 2.44948974]])"
      ]
     },
     "execution_count": 73,
     "metadata": {},
     "output_type": "execute_result"
    }
   ],
   "source": [
    "np.sqrt(mi_matriz_v)"
   ]
  },
  {
   "cell_type": "code",
   "execution_count": 74,
   "id": "42b03024-798a-4947-9c57-bfd38be42eef",
   "metadata": {},
   "outputs": [
    {
     "data": {
      "text/plain": [
       "array([[ 0.84147098,  0.90929743,  0.14112001],\n",
       "       [-0.7568025 , -0.95892427, -0.2794155 ]])"
      ]
     },
     "execution_count": 74,
     "metadata": {},
     "output_type": "execute_result"
    }
   ],
   "source": [
    "np.sin(mi_matriz_v)"
   ]
  },
  {
   "cell_type": "code",
   "execution_count": 75,
   "id": "caa726b2-9640-4dc6-a481-d5b34c9f725f",
   "metadata": {},
   "outputs": [
    {
     "data": {
      "text/plain": [
       "array([[  2.71828183,   7.3890561 ,  20.08553692],\n",
       "       [ 54.59815003, 148.4131591 , 403.42879349]])"
      ]
     },
     "execution_count": 75,
     "metadata": {},
     "output_type": "execute_result"
    }
   ],
   "source": [
    "np.exp(mi_matriz_v)"
   ]
  },
  {
   "cell_type": "code",
   "execution_count": 77,
   "id": "68cc2e62-f2ea-40e4-b2f4-3c18c2a7e9ff",
   "metadata": {},
   "outputs": [
    {
     "data": {
      "text/plain": [
       "6"
      ]
     },
     "execution_count": 77,
     "metadata": {},
     "output_type": "execute_result"
    }
   ],
   "source": [
    "np.max(mi_matriz_v) #con np.min() entrega el minimo\n"
   ]
  },
  {
   "cell_type": "code",
   "execution_count": 80,
   "id": "c403a7f8-9986-4115-98b3-6865a42880ed",
   "metadata": {},
   "outputs": [
    {
     "data": {
      "text/plain": [
       "array([[1, 2, 3],\n",
       "       [4, 5, 6]])"
      ]
     },
     "execution_count": 80,
     "metadata": {},
     "output_type": "execute_result"
    }
   ],
   "source": [
    "#Broadcasting permite realizar ecuaciones que no deberian ser posibles, extienden el vector de menor\n",
    "#dimension a la mayor dimension necesaria\n",
    "mi_matriz_v\n"
   ]
  },
  {
   "cell_type": "code",
   "execution_count": 81,
   "id": "a55fc1c5-564b-4217-8a23-d93b9867cf8d",
   "metadata": {},
   "outputs": [
    {
     "data": {
      "text/plain": [
       "array([1, 2, 3])"
      ]
     },
     "execution_count": 81,
     "metadata": {},
     "output_type": "execute_result"
    }
   ],
   "source": [
    "mi_vector"
   ]
  },
  {
   "cell_type": "code",
   "execution_count": 82,
   "id": "c25e1200-5c97-4f5b-acb3-6d4b8ddee98f",
   "metadata": {},
   "outputs": [
    {
     "data": {
      "text/plain": [
       "array([[2, 4, 6],\n",
       "       [5, 7, 9]])"
      ]
     },
     "execution_count": 82,
     "metadata": {},
     "output_type": "execute_result"
    }
   ],
   "source": [
    "mi_matriz_v + mi_vector"
   ]
  },
  {
   "cell_type": "code",
   "execution_count": null,
   "id": "263e83bf-a647-428c-a2a4-31791e0d1253",
   "metadata": {},
   "outputs": [],
   "source": []
  }
 ],
 "metadata": {
  "kernelspec": {
   "display_name": "Python 3 (ipykernel)",
   "language": "python",
   "name": "python3"
  },
  "language_info": {
   "codemirror_mode": {
    "name": "ipython",
    "version": 3
   },
   "file_extension": ".py",
   "mimetype": "text/x-python",
   "name": "python",
   "nbconvert_exporter": "python",
   "pygments_lexer": "ipython3",
   "version": "3.11.7"
  }
 },
 "nbformat": 4,
 "nbformat_minor": 5
}
